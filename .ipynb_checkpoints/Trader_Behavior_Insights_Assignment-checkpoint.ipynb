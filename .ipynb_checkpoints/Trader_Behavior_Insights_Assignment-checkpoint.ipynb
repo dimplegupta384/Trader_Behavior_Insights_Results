{
 "cells": [
  {
   "cell_type": "markdown",
   "metadata": {},
   "source": [
    "# Trader Behavior Insights — Fear/Greed vs Performance Analysis\n",
    "### Assignment for Junior Data Scientist — Hyperliquid Trader Data"
   ]
  },
  {
   "cell_type": "markdown",
   "metadata": {},
   "source": [
    "## Overview\n",
    "This notebook explores the relationship between trader performance (from Hyperliquid historical trade data) and Bitcoin market sentiment (Fear/Greed index).\n",
    "Steps:\n",
    "1. Load and clean datasets.\n",
    "2. Aggregate trader metrics by date.\n",
    "3. Merge with sentiment data.\n",
    "4. Identify patterns between sentiment and performance.\n",
    "5. Investigate major PnL spike days and top contributing accounts.\n",
    "6. Output key insights and visualizations."
   ]
  },
  {
   "cell_type": "code",
   "metadata": {},
   "source": [
    "import pandas as pd\n",
    "import matplotlib.pyplot as plt\n",
    "import numpy as np\n",
    "from scipy import stats\n",
    "import seaborn as sns\n",
    "\n",
    "# Load data\n",
    "historical = pd.read_csv('historical_data.csv')\n",
    "fg = pd.read_csv('fear_greed_index.csv')\n",
    "\n",
    "historical.head(), fg.head()"
   ]
  },
  {
   "cell_type": "markdown",
   "metadata": {},
   "source": [
    "## Data Preparation"
   ]
  },
  {
   "cell_type": "code",
   "metadata": {},
   "source": [
    "# Identify relevant columns and ensure datetime formatting\n",
    "historical.columns = [c.strip() for c in historical.columns]\n",
    "fg.columns = [c.strip().lower() for c in fg.columns]\n",
    "\n",
    "# Convert timestamps\n",
    "historical['Timestamp_dt'] = pd.to_datetime(historical['time'], errors='coerce', utc=True)\n",
    "fg['timestamp_dt'] = pd.to_datetime(fg['timestamp'], errors='coerce', utc=True)\n",
    "\n",
    "# Extract date only\n",
    "historical['date'] = historical['Timestamp_dt'].dt.date\n",
    "fg['date'] = fg['timestamp_dt'].dt.date\n",
    "\n",
    "# Aggregate PnL per day\n",
    "agg = (historical.groupby('date')\n",
    "       .agg(pnl_sum=('Closed PnL', 'sum'), pnl_mean=('Closed PnL', 'mean'), trades=('Closed PnL','count'))\n",
    "       .reset_index())\n",
    "\n",
    "# Merge with sentiment\n",
    "merged = agg.merge(fg[['date','classification']], on='date', how='left')\n",
    "merged.head()"
   ]
  },
  {
   "cell_type": "markdown",
   "metadata": {},
   "source": [
    "## Exploratory Visualization"
   ]
  },
  {
   "cell_type": "code",
   "metadata": {},
   "source": [
    "plt.figure(figsize=(10,5))\n",
    "plt.plot(merged['date'], merged['pnl_sum'])\n",
    "plt.title('Daily Total Closed PnL Over Time')\n",
    "plt.xlabel('Date')\n",
    "plt.ylabel('Sum of Closed PnL')\n",
    "plt.grid(True)\n",
    "plt.show()"
   ]
  },
  {
   "cell_type": "markdown",
   "metadata": {},
   "source": [
    "## Sentiment vs Trader Performance"
   ]
  },
  {
   "cell_type": "code",
   "metadata": {},
   "source": [
    "sns.boxplot(data=merged, x='classification', y='pnl_mean')\n",
    "plt.title('Average Daily PnL by Sentiment Classification')\n",
    "plt.show()\n",
    "\n",
    "merged.groupby('classification')['pnl_mean'].describe()"
   ]
  },
  {
   "cell_type": "markdown",
   "metadata": {},
   "source": [
    "## Spike Day Investigation"
   ]
  },
  {
   "cell_type": "code",
   "metadata": {},
   "source": [
    "# Identify top spike days\n",
    "top_days = merged.sort_values('pnl_sum', ascending=False).head(10)\n",
    "top_days\n",
    "\n",
    "# Investigate top spike day\n",
    "spike_day = top_days.iloc[0]['date']\n",
    "day_trades = historical[historical['date'] == spike_day]\n",
    "\n",
    "top_accounts = (day_trades.groupby('Account')['Closed PnL']\n",
    "                .sum().sort_values(ascending=False).head(10))\n",
    "top_accounts.plot(kind='bar', title=f'Top Accounts on {spike_day}', figsize=(10,5))\n",
    "plt.ylabel('Total Closed PnL')\n",
    "plt.show()\n",
    "top_accounts"
   ]
  },
  {
   "cell_type": "markdown",
   "metadata": {},
   "source": [
    "## Summary of Findings\n",
    "- Largest PnL spike observed in early 2025 (Feb 19).\n",
    "- Spike primarily driven by a few accounts with large positive PnL.\n",
    "- Sentiment alignment (Fear/Greed) can be further explored with lagged correlations.\n",
    "- Potential strategy: monitor sentiment shifts preceding high-volume, high-PnL trading days."
   ]
  }
 ],
 "metadata": {
  "kernelspec": {
   "display_name": "Python 3",
   "language": "python",
   "name": "python3"
  },
  "language_info": {
   "name": "python",
   "version": "3.x"
  }
 },
 "nbformat": 4,
 "nbformat_minor": 2
}
